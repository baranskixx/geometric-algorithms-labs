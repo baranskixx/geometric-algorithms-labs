{
 "cells": [
  {
   "cell_type": "markdown",
   "metadata": {
    "collapsed": true
   },
   "source": [
    "# Laboratorium"
   ]
  },
  {
   "cell_type": "markdown",
   "metadata": {},
   "source": [
    "### Konfiguracja"
   ]
  },
  {
   "cell_type": "code",
   "execution_count": null,
   "metadata": {},
   "outputs": [],
   "source": [
    "# Narzędzie jest oparte o kilka zewnętrznych bibliotek, które potrzebujemy najpierw zaimportować.\n",
    "import numpy as np\n",
    "import matplotlib.pyplot as plt\n",
    "import matplotlib.collections as mcoll\n",
    "import matplotlib.colors as mcolors\n",
    "from matplotlib.widgets import Button\n",
    "import json as js\n",
    "\n",
    "# Parametr określający jak blisko (w odsetku całego widocznego zakresu) punktu początkowego \n",
    "# wielokąta musimy kliknąć, aby go zamknąć.\n",
    "TOLERANCE = 0.15\n",
    "\n",
    "def dist(point1, point2):\n",
    "    return np.sqrt(np.power(point1[0] - point2[0], 2) + np.power(point1[1] - point2[1], 2))\n",
    "\n",
    "# Klasa ta trzyma obecny stan wykresu oraz posiada metody, które mają zostać wykonane\n",
    "# po naciśnięciu przycisków.\n",
    "class _Button_callback(object):\n",
    "    def __init__(self, scenes):\n",
    "        self.i = 0\n",
    "        self.scenes = scenes\n",
    "        self.adding_points = False\n",
    "        self.added_points = []\n",
    "        self.adding_lines = False\n",
    "        self.added_lines = []\n",
    "        self.adding_rects = False\n",
    "        self.added_rects = []\n",
    "\n",
    "    def set_axes(self, ax):\n",
    "        self.ax = ax\n",
    "        \n",
    "    # Metoda ta obsługuje logikę przejścia do następnej sceny.\n",
    "    def next(self, event):\n",
    "        self.i = (self.i + 1) % len(self.scenes)\n",
    "        self.draw(autoscaling = True)\n",
    "\n",
    "    # Metoda ta obsługuje logikę powrotu do poprzedniej sceny.\n",
    "    def prev(self, event):\n",
    "        self.i = (self.i - 1) % len(self.scenes)\n",
    "        self.draw(autoscaling = True)\n",
    "        \n",
    "    # Metoda ta aktywuje funkcję rysowania punktów wyłączając równocześnie rysowanie \n",
    "    # odcinków i wielokątów.\n",
    "    def add_point(self, event):\n",
    "        self.adding_points = not self.adding_points\n",
    "        self.new_line_point = None\n",
    "        if self.adding_points:\n",
    "            self.adding_lines = False\n",
    "            self.adding_rects = False\n",
    "            self.added_points.append(PointsCollection([]))\n",
    "            \n",
    "    # Metoda ta aktywuje funkcję rysowania odcinków wyłączając równocześnie\n",
    "    # rysowanie punktów i wielokątów.     \n",
    "    def add_line(self, event):   \n",
    "        self.adding_lines = not self.adding_lines\n",
    "        self.new_line_point = None\n",
    "        if self.adding_lines:\n",
    "            self.adding_points = False\n",
    "            self.adding_rects = False\n",
    "            self.added_lines.append(LinesCollection([]))\n",
    "\n",
    "    # Metoda ta aktywuje funkcję rysowania wielokątów wyłączając równocześnie\n",
    "    # rysowanie punktów i odcinków.\n",
    "    def add_rect(self, event):\n",
    "        self.adding_rects = not self.adding_rects\n",
    "        self.new_line_point = None\n",
    "        if self.adding_rects:\n",
    "            self.adding_points = False\n",
    "            self.adding_lines = False\n",
    "            self.new_rect()\n",
    "    \n",
    "    def new_rect(self):\n",
    "        self.added_rects.append(LinesCollection([]))\n",
    "        self.rect_points = []\n",
    "        \n",
    "    # Metoda odpowiedzialna za właściwą logikę rysowania nowych elementów. W\n",
    "    # zależności od włączonego trybu dodaje nowe punkty, początek, koniec odcinka\n",
    "    # lub poszczególne wierzchołki wielokąta. Istnieje ciekawa logika sprawdzania\n",
    "    # czy dany punkt jest domykający dla danego wielokąta. Polega ona na tym, że\n",
    "    # sprawdzamy czy odległość nowego punktu od początkowego jest większa od\n",
    "    # średniej długości zakresu pomnożonej razy parametr TOLERANCE.   \n",
    "    def on_click(self, event):\n",
    "        if event.inaxes != self.ax:\n",
    "            return\n",
    "        new_point = (event.xdata, event.ydata)\n",
    "        if self.adding_points:\n",
    "            self.added_points[-1].add_points([new_point])\n",
    "            self.draw(autoscaling = False)\n",
    "        elif self.adding_lines:\n",
    "            if self.new_line_point is not None:\n",
    "                self.added_lines[-1].add([self.new_line_point, new_point])\n",
    "                self.new_line_point = None\n",
    "                self.draw(autoscaling = False)\n",
    "            else:\n",
    "                self.new_line_point = new_point\n",
    "        elif self.adding_rects:\n",
    "            if len(self.rect_points) == 0:\n",
    "                self.rect_points.append(new_point)\n",
    "            elif len(self.rect_points) == 1:\n",
    "                self.added_rects[-1].add([self.rect_points[-1], new_point])\n",
    "                self.rect_points.append(new_point)\n",
    "                self.draw(autoscaling = False)\n",
    "            elif len(self.rect_points) > 1:\n",
    "                if dist(self.rect_points[0], new_point) < (np.mean([self.ax.get_xlim(), self.ax.get_ylim()])*TOLERANCE):\n",
    "                    self.added_rects[-1].add([self.rect_points[-1], self.rect_points[0]])\n",
    "                    self.new_rect()\n",
    "                else:    \n",
    "                    self.added_rects[-1].add([self.rect_points[-1], new_point])\n",
    "                    self.rect_points.append(new_point)\n",
    "                self.draw(autoscaling = False)\n",
    "    \n",
    "    # Metoda odpowiedzialna za narysowanie całego wykresu. Warto zauważyć,\n",
    "    # że zaczyna się ona od wyczyszczenia jego wcześniejszego stanu. Istnieje w\n",
    "    # niej nietrywialna logika zarządzania zakresem wykresu, tak żeby, w zależności\n",
    "    # od ustawionego parametru autoscaling, uniknąć sytuacji, kiedy dodawanie\n",
    "    # nowych punktów przy brzegu obecnie widzianego zakresu powoduje niekorzystne\n",
    "    # przeskalowanie.\n",
    "    def draw(self, autoscaling = True):\n",
    "        if not autoscaling:\n",
    "            xlim = self.ax.get_xlim()\n",
    "            ylim = self.ax.get_ylim()\n",
    "        self.ax.clear()\n",
    "        for collection in (self.scenes[self.i].points + self.added_points):\n",
    "            if len(collection.points) > 0:\n",
    "                self.ax.scatter(*zip(*(np.array(collection.points))), **collection.kwargs)\n",
    "        for collection in (self.scenes[self.i].lines + self.added_lines + self.added_rects):\n",
    "            self.ax.add_collection(collection.get_collection())\n",
    "        self.ax.autoscale(autoscaling)\n",
    "        if not autoscaling:\n",
    "            self.ax.set_xlim(xlim)\n",
    "            self.ax.set_ylim(ylim)\n",
    "        plt.draw()\n"
   ]
  },
  {
   "cell_type": "markdown",
   "metadata": {},
   "source": [
    "### Interfejsy\n",
    "\n",
    "[Dostępne kolory](https://matplotlib.org/3.1.1/gallery/color/named_colors.html)\n",
    "\n",
    "[Dostępne znaczniki punktów](https://matplotlib.org/3.1.1/api/markers_api.html#module-matplotlib.markers)"
   ]
  },
  {
   "cell_type": "code",
   "execution_count": null,
   "metadata": {},
   "outputs": [],
   "source": [
    "# Klasa Scene odpowiada za przechowywanie elementów, które mają być\n",
    "# wyświetlane równocześnie. Konkretnie jest to lista PointsCollection i\n",
    "# LinesCollection.\n",
    "class Scene:\n",
    "    def __init__(self, points=[], lines=[]):\n",
    "        self.points=points\n",
    "        self.lines=lines\n",
    "\n",
    "# Klasa PointsCollection gromadzi w sobie punkty jednego typu, a więc takie,\n",
    "# które zostaną narysowane w takim samym kolorze i stylu. W konstruktorze\n",
    "# przyjmuje listę punktów rozumianych jako pary współrzędnych (x, y). Parametr\n",
    "# kwargs jest przekazywany do wywołania funkcji z biblioteki MatPlotLib przez\n",
    "# co użytkownik może podawać wszystkie parametry tam zaproponowane.        \n",
    "class PointsCollection:\n",
    "    def __init__(self, points, **kwargs):\n",
    "        self.points = points\n",
    "        self.kwargs = kwargs\n",
    "    \n",
    "    def add_points(self, points):\n",
    "        self.points = self.points + points\n",
    "\n",
    "# Klasa LinesCollection podobnie jak jej punktowy odpowiednik gromadzi\n",
    "# odcinki tego samego typu. Tworząc ją należy podać listę linii, gdzie każda\n",
    "# z nich jest dwuelementową listą punktów – par (x, y). Parametr kwargs jest\n",
    "# przekazywany do wywołania funkcji z biblioteki MatPlotLib przez co użytkownik\n",
    "# może podawać wszystkie parametry tam zaproponowane.\n",
    "class LinesCollection:\n",
    "    def __init__(self, lines, **kwargs):\n",
    "        self.lines = lines\n",
    "        self.kwargs = kwargs\n",
    "        \n",
    "    def add(self, line):\n",
    "        self.lines.append(line)\n",
    "        \n",
    "    def get_collection(self):\n",
    "        return mcoll.LineCollection(self.lines, **self.kwargs)\n",
    "\n",
    "# Klasa Plot jest najważniejszą klasą w całym programie, ponieważ agreguje\n",
    "# wszystkie przygotowane sceny, odpowiada za stworzenie wykresu i przechowuje\n",
    "# referencje na przyciski, dzięki czemu nie będą one skasowane podczas tzw.\n",
    "# garbage collectingu.\n",
    "class Plot:\n",
    "    def __init__(self, scenes = [Scene()], points = [], lines = [], json = None):\n",
    "        if json is None:\n",
    "            self.scenes = scenes\n",
    "            if points or lines:\n",
    "                self.scenes[0].points = points\n",
    "                self.scenes[0].lines = lines\n",
    "        else:\n",
    "            self.scenes = [Scene([PointsCollection(pointsCol) for pointsCol in scene[\"points\"]], \n",
    "                                 [LinesCollection(linesCol) for linesCol in scene[\"lines\"]]) \n",
    "                           for scene in js.loads(json)]\n",
    "    \n",
    "    # Ta metoda ma szczególne znaczenie, ponieważ konfiguruje przyciski i\n",
    "    # wykonuje tym samym dość skomplikowaną logikę. Zauważmy, że konfigurując każdy\n",
    "    # przycisk podajemy referencję na metodę obiektu _Button_callback, która\n",
    "    # zostanie wykonana w momencie naciśnięcia.\n",
    "    def __configure_buttons(self):\n",
    "        plt.subplots_adjust(bottom=0.2)\n",
    "        ax_prev = plt.axes([0.6, 0.05, 0.15, 0.075])\n",
    "        ax_next = plt.axes([0.76, 0.05, 0.15, 0.075])\n",
    "        ax_add_point = plt.axes([0.44, 0.05, 0.15, 0.075])\n",
    "        ax_add_line = plt.axes([0.28, 0.05, 0.15, 0.075])\n",
    "        ax_add_rect = plt.axes([0.12, 0.05, 0.15, 0.075])\n",
    "        b_next = Button(ax_next, 'Następny')\n",
    "        b_next.on_clicked(self.callback.next)\n",
    "        b_prev = Button(ax_prev, 'Poprzedni')\n",
    "        b_prev.on_clicked(self.callback.prev)\n",
    "        b_add_point = Button(ax_add_point, 'Dodaj punkt')\n",
    "        b_add_point.on_clicked(self.callback.add_point)\n",
    "        b_add_line = Button(ax_add_line, 'Dodaj linię')\n",
    "        b_add_line.on_clicked(self.callback.add_line)\n",
    "        b_add_rect = Button(ax_add_rect, 'Dodaj figurę')\n",
    "        b_add_rect.on_clicked(self.callback.add_rect)\n",
    "        return [b_prev, b_next, b_add_point, b_add_line, b_add_rect]\n",
    "    \n",
    "    def add_scene(self, scene):\n",
    "        self.scenes.append(scene)\n",
    "    \n",
    "    def add_scenes(self, scenes):\n",
    "        self.scenes = self.scenes + scenes\n",
    "\n",
    "    # Metoda toJson() odpowiada za zapisanie stanu obiektu do ciągu znaków w\n",
    "    # formacie JSON.\n",
    "    def toJson(self):\n",
    "        return js.dumps([{\"points\": [np.array(pointCol.points).tolist() for pointCol in scene.points], \n",
    "                          \"lines\":[linesCol.lines for linesCol in scene.lines]} \n",
    "                         for scene in self.scenes])    \n",
    "    \n",
    "    # Metoda ta zwraca punkty dodane w trakcie rysowania.\n",
    "    def get_added_points(self):\n",
    "        if self.callback:\n",
    "            return self.callback.added_points\n",
    "        else:\n",
    "            return None\n",
    "    \n",
    "    # Metoda ta zwraca odcinki dodane w trakcie rysowania.\n",
    "    def get_added_lines(self):\n",
    "        if self.callback:\n",
    "            return self.callback.added_lines\n",
    "        else:\n",
    "            return None\n",
    "        \n",
    "    # Metoda ta zwraca wielokąty dodane w trakcie rysowania.\n",
    "    def get_added_figure(self):\n",
    "        if self.callback:\n",
    "            return self.callback.added_rects\n",
    "        else:\n",
    "            return None\n",
    "    \n",
    "    # Metoda ta zwraca punkty, odcinki i wielokąty dodane w trakcie rysowania\n",
    "    # jako scenę.\n",
    "    def get_added_elements(self):\n",
    "        if self.callback:\n",
    "            return Scene(self.callback.added_points, self.callback.added_lines+self.callback.added_rects)\n",
    "        else:\n",
    "            return None\n",
    "    \n",
    "    # Główna metoda inicjalizująca wyświetlanie wykresu.\n",
    "    def draw(self):\n",
    "        plt.close()\n",
    "        fig = plt.figure()\n",
    "        self.callback = _Button_callback(self.scenes)\n",
    "        self.widgets = self.__configure_buttons()\n",
    "        ax = plt.axes(autoscale_on = False)\n",
    "        self.callback.set_axes(ax)\n",
    "        fig.canvas.mpl_connect('button_press_event', self.callback.on_click)\n",
    "        plt.show()\n",
    "        self.callback.draw()\n",
    "        "
   ]
  },
  {
   "cell_type": "markdown",
   "metadata": {},
   "source": [
    "### Przykłady użycia"
   ]
  },
  {
   "cell_type": "markdown",
   "metadata": {},
   "source": [
    "##### Proste rysowanie\n",
    "\n",
    "Rysowanie prostego rysunku złożonego ze statycznych punktów i odcinków jest stosunkowo proste. Należy utworzyć zmienną z obiektem `Plot`, który przyjmuje w konstruktorze listę obiektów `PointsCollection` jako parametr `points` oraz listę `LinesCollection` jako parametr `lines`. Następnie należy wywołać jego metodę `draw()`."
   ]
  },
  {
   "cell_type": "code",
   "execution_count": null,
   "metadata": {
    "pycharm": {
     "name": "#%%\n"
    }
   },
   "outputs": [],
   "source": [
    "%matplotlib notebook\n",
    "\n",
    "plot = Plot(points=[PointsCollection([(1, 2), (3, 1.5), (2, -1)]),\n",
    "               PointsCollection([(5, -2), (2, 2), (-2, -1)], color='green', marker = \"^\")],\n",
    "            lines=[LinesCollection([[(1,2),(2,3)], [(0,1),(1,0)]])])\n",
    "plot.draw()"
   ]
  },
  {
   "cell_type": "markdown",
   "metadata": {},
   "source": [
    "##### Rysunek dynamiczny\n",
    "\n",
    "To narzędzie pozwala na wizualizację \"rysunków dynamicznych\", a więc takich, które składają się z wielu różnych obrazów. Może to być przydatne np. podczas wizualizacji kolejnych kroków danego algorytmu. Poszczególne klatki określane są jako obiekty `Scene`, które przyjmują listę `PointsCollection` oraz listę `LinesCollection` w swoim konstruktorze. Obiekt `Plot` przyjmuje w parametrze konstruktora `scenes` właśnie listę takich scen.\n",
    "\n",
    "Na rysunku przyciski `Następny` i `Poprzedni` służą do nawigacji pomiędzy nimi."
   ]
  },
  {
   "cell_type": "code",
   "execution_count": null,
   "metadata": {},
   "outputs": [],
   "source": [
    "%matplotlib notebook\n",
    "\n",
    "scenes=[Scene([PointsCollection([(1, 2), (3, 1.5), (2, -1)]), \n",
    "               PointsCollection([(5, -2), (2, 2), (-2, -1)], color='green', marker = \"^\")], \n",
    "              [LinesCollection([[(1,2),(2,3)], [(0,1),(1,0)]])]), \n",
    "        Scene([PointsCollection([(1, 2), (3, 1.5), (2, -1)], color='red'), \n",
    "               PointsCollection([(5, -2), (2, 2), (-2, 1)], color='black')], \n",
    "              [LinesCollection([[(-1,2),(-2,3)], [(0,-1),(-1,0)]])])]\n",
    "\n",
    "plot=Plot(scenes = scenes)\n",
    "plot.draw() \n"
   ]
  },
  {
   "cell_type": "markdown",
   "metadata": {},
   "source": [
    "###### Zapis i odczyt z pliku\n",
    "\n",
    "Klasa Plot posiada metodę `toJson()`, która zwraca string zawierający listę scen w formacie JSON. Taki string można normalnie zapisać do pliku stosując normalne sposoby dostępne w Pythonie. Wczytanie listy scen z pliku dokonuje się poprzez podanie parametru `json` w kostruktorze `Plot`."
   ]
  },
  {
   "cell_type": "code",
   "execution_count": null,
   "metadata": {},
   "outputs": [],
   "source": [
    "scenes=[Scene([PointsCollection([(-2, -1)], color='green', marker = \"^\")], \n",
    "              [LinesCollection([[(1,2),(2,3)], [(0,1),(1,0)]])]), \n",
    "        Scene([PointsCollection([(1, 2), (3, 1.5)], color='red'), \n",
    "               PointsCollection([(5, -2)], color='black')])]\n",
    "plot = Plot(scenes)\n",
    "\n",
    "with open('somefile.json', 'w') as file:\n",
    "    file.write(plot.toJson())\n",
    "    \n",
    "#somefile.json: [{\"points\": [[[-2, -1]]], \"lines\": [[[[1, 2], [2, 3]], [[0, 1], [1, 0]]]]}, {\"points\": [[[1.0, 2.0], [3.0, 1.5]], [[5, -2]]], \"lines\": []}]\n",
    "    \n",
    "with open('somefile.json', 'r') as file:\n",
    "    json = file.read()\n",
    "    \n",
    "plot2 = Plot(json=json)\n",
    "plot2.draw()"
   ]
  },
  {
   "cell_type": "markdown",
   "metadata": {},
   "source": [
    "##### Operowanie na dodanych punktach\n",
    "\n",
    "Możemy bardzo łatwo rysować nowe punkty i linie. Aby je później wykorzystać sugerowanym sposobem jest utworzenie nowej komórki, w której utworzymy nowy `Plot` i skorzystamy z metod `get_added_points()` i `get_added_points()` lub `get_added_elements()` (zwraca scenę) z pierwszego `Plot`u."
   ]
  },
  {
   "cell_type": "code",
   "execution_count": null,
   "metadata": {},
   "outputs": [],
   "source": [
    "#Dodaj tu punkty, figury i/lub odcinki!\n",
    "plot1 = Plot()\n",
    "plot1.draw()"
   ]
  },
  {
   "cell_type": "code",
   "execution_count": null,
   "metadata": {},
   "outputs": [],
   "source": [
    "plot2 = Plot([plot1.get_added_elements()])\n",
    "plot2.draw()"
   ]
  },
  {
   "cell_type": "markdown",
   "metadata": {},
   "source": [
    "## Import LifoQueue (stosu) oraz metod Uniform oraz random (do generowania punktów)"
   ]
  },
  {
   "cell_type": "code",
   "execution_count": null,
   "metadata": {},
   "outputs": [],
   "source": [
    "from queue import LifoQueue, Queue    # import kolejki uzywanej w algorytmie Grahama\n",
    "from random import uniform, randint   # import funkcji uniform and randint, uzywanych w generowaniu zbiorów\n",
    "from copy import copy, deepcopy       # import metody deepcopy, potrzebnej do kopiowania zbiorów punktów \n",
    "from math import sqrt\n",
    "from timeit import default_timer as timer"
   ]
  },
  {
   "cell_type": "markdown",
   "metadata": {},
   "source": [
    "## Deklaracja wartości pomocniczych oraz funkcji do badania wzajemnego położenia wierzchołków"
   ]
  },
  {
   "cell_type": "code",
   "execution_count": null,
   "metadata": {},
   "outputs": [],
   "source": [
    "INF = 1e5\n",
    "EPS = 1e-10\n",
    "# funkcja dist zwraca dystans między dwoma punktami w R^2\n",
    "def dist(p1, p2):\n",
    "    return sqrt(((p1[0] - p2[0])**2 + (p1[1] - p2[1])**2))\n",
    "\n",
    "# funkcja orienta zwraca wyznacznik macierzy postaci\n",
    "#  | ax, ay, 1 |\n",
    "#  | bx, by, 1 |\n",
    "#  | cx, cy, 1 |\n",
    "# wyznacznik ten definiuje po jakiej stronie (lewo / prawo)\n",
    "# znajduje się punkt c względem wektora -ab->\n",
    "def orient(a, b, c):\n",
    "    return a[0]*b[1] + a[1]*c[0] + b[0]*c[1] - b[1]*c[0] - a[1]*b[0] - a[0]*c[1]\n",
    "\n",
    "# zwraca odległość między punktami p1 i p2 w metryce euklidesowej\n",
    "def dist(p1, p2):\n",
    "    return sqrt(((p1[0] - p2[0])**2 + (p1[1] - p2[1])**2))\n",
    "\n",
    "# zwraca kąt między wektorami -ab-> i -bc-> zgodnie z wskazówkami zegara\n",
    "def angle_cw(a, b, c):\n",
    "    if c == a or c == b or a == b:\n",
    "        return 0\n",
    "\n",
    "    vec1 = [b[0] - a[0], b[1] - a[1]]\n",
    "    vec2 = [c[0] - b[0], c[1] - b[1]]\n",
    "    unit_vec1 = vec1 / np.linalg.norm(vec1)\n",
    "    unit_vec2 = vec2 / np.linalg.norm(vec2)\n",
    "\n",
    "    angle = np.arccos(np.dot(unit_vec1, unit_vec2))\n",
    "    o = orient(a, b, c)\n",
    "\n",
    "    if o < 0:\n",
    "        angle = 2*np.pi - angle\n",
    "    \n",
    "    return angle\n",
    "\n",
    "# zwraca kąt między osią OX a wektorem -ab-> wyznaczony przez łuk idący \n",
    "# odwrotnie do wskazówek zegara od OX do -ab->\n",
    "def ox_angle(a, b):\n",
    "    if a == b:\n",
    "        return 0\n",
    "    \n",
    "    unit_vec1 = (1, 0)\n",
    "    vec2 = (b[0] - a[0], b[1] - a[1])\n",
    "    unit_vec2 = vec2 / np.linalg.norm(vec2)\n",
    "\n",
    "    angle = np.arccos(np.dot(unit_vec1, unit_vec2))\n",
    "\n",
    "    return angle"
   ]
  },
  {
   "cell_type": "markdown",
   "metadata": {},
   "source": [
    "# Generowanie zbiorów"
   ]
  },
  {
   "cell_type": "markdown",
   "metadata": {},
   "source": [
    "## Zestaw A"
   ]
  },
  {
   "cell_type": "code",
   "execution_count": null,
   "metadata": {},
   "outputs": [],
   "source": [
    "# Generowanie losowo punktów w przestrzeni 2D w zakresie [-LIM, LIM]\n",
    "def generateA(n, LIM):\n",
    "    A = []\n",
    "\n",
    "    for _ in range(int(n)):\n",
    "        x = uniform(-LIM, LIM)\n",
    "        y = uniform(-LIM, LIM)\n",
    "\n",
    "        A.append((x, y))\n",
    "    \n",
    "    return A\n",
    "\n",
    "n, LIM = map(float, input().split())\n",
    "\n",
    "A = generateA(n, LIM)\n",
    "plot = Plot(points = [PointsCollection(A)])\n",
    "plot.draw()"
   ]
  },
  {
   "cell_type": "markdown",
   "metadata": {},
   "source": [
    "## Zestaw B"
   ]
  },
  {
   "cell_type": "code",
   "execution_count": null,
   "metadata": {},
   "outputs": [],
   "source": [
    "# Generowanie losowo punktów w przestrzeni 2D na okręgu o środku w punkcie (0,0)\n",
    "def generateB(n, R):\n",
    "    B = []\n",
    "\n",
    "    for _ in range(int(n)):\n",
    "        v = uniform(0, 2*np.pi)\n",
    "\n",
    "        x = np.sin(v)\n",
    "        y = np.cos(v)\n",
    "        B.append((x, y))\n",
    "    \n",
    "    return B\n",
    "\n",
    "n, R = map(float, input().split())\n",
    "B = generateB(n, R)\n",
    "\n",
    "plot = Plot(points = [PointsCollection(B)])\n",
    "plot.draw()"
   ]
  },
  {
   "cell_type": "markdown",
   "metadata": {},
   "source": [
    "## Zestaw C"
   ]
  },
  {
   "cell_type": "code",
   "execution_count": null,
   "metadata": {},
   "outputs": [],
   "source": [
    "# Generowanie losowo punktów w przestrzeni 2D rozmieszczonych na bokach prostokąta, \n",
    "def generateC(n, xmin, xmax, ymin, ymax):\n",
    "    C = []\n",
    "\n",
    "    for _ in range(int(n)):\n",
    "        side = randint(0, 4)\n",
    "        if side == 0:\n",
    "            C.append((uniform(xmin, xmax), ymin))\n",
    "        elif side == 1:\n",
    "            C.append((xmax, uniform(ymin, ymax)))\n",
    "        elif side == 2:\n",
    "            C.append((uniform(xmin, xmax), ymax))\n",
    "        else:\n",
    "            C.append((xmin, uniform(ymin, ymax)))\n",
    "\n",
    "    return C\n",
    "\n",
    "n, xmin, xmax, ymin, ymax = map(float, input().split())\n",
    "C = generateC(n, xmin, xmax, ymin, ymax)\n",
    "\n",
    "plot = Plot(points = [PointsCollection(C)])\n",
    "plot.draw()"
   ]
  },
  {
   "cell_type": "markdown",
   "metadata": {},
   "source": [
    "## Zestaw D"
   ]
  },
  {
   "cell_type": "code",
   "execution_count": null,
   "metadata": {},
   "outputs": [],
   "source": [
    "# Generowanie losowo punktów w przestrzeni 2D rozmieszczonych na dwóch bokach kwadratu \n",
    "# (pokrywających się z osiami X oraz Y) oraz na jego przekątnych\n",
    "# Wierzchołki kwadratu również należą do zbioru punktów\n",
    "def generateD(x, y, width, axis_points, diagonal_points):\n",
    "    D = [(x, y), (x + width, y), (x, y + width), (x + width, y + width)]\n",
    "\n",
    "    for i in range(int(axis_points)):\n",
    "        D.append((x, y + uniform(0, width)))\n",
    "\n",
    "    for i in range(int(axis_points)):\n",
    "        D.append((x + uniform(0, width), y))\n",
    "\n",
    "    for i in range(int(diagonal_points)):\n",
    "        a = uniform(0, width)\n",
    "        D.append((x+a, y+a))\n",
    "\n",
    "    for i in range(int(diagonal_points)):\n",
    "        a = uniform(0, width)\n",
    "        D.append((x+a, y+width-a))\n",
    "\n",
    "    return D\n",
    "\n",
    "\n",
    "x, y, width, axis_points, diagonal_points = map(float, input().split())\n",
    "D = generateD(x, y, width, axis_points, diagonal_points)\n",
    "        \n",
    "plot = Plot(points = [PointsCollection(D)])\n",
    "plot.draw()"
   ]
  },
  {
   "cell_type": "markdown",
   "metadata": {},
   "source": [
    "# Implementacja algorytmów Jarvisa i Grahama"
   ]
  },
  {
   "cell_type": "markdown",
   "metadata": {},
   "source": [
    "## Implementacja algorytmu Jarvisa zwracającego kolejne etapy wyznaczania otoczki"
   ]
  },
  {
   "cell_type": "code",
   "execution_count": null,
   "metadata": {},
   "outputs": [],
   "source": [
    "def jarvis_with_scenes(S):\n",
    "    # p1 jest punktem o najmniejszej współrzędnej x wśród punktów\n",
    "    # o najmniejszej współrzędnej y - ten punkt na pewno znajdzie się w otoczce\n",
    "    p1 = min(S, key = lambda x : (x[1], x[0]))\n",
    "    prev = None\n",
    "    current = p1\n",
    "    scenes = [[[p1], []]]\n",
    "    back_in_p1 = False\n",
    "    A = [None]*len(S)\n",
    "    \n",
    "    # pętle wykonuję do momentu, aż powrócę do punktu p1\n",
    "    while not back_in_p1:\n",
    "        # jeśli prev (przedostatni punkt dodany do otoczki) nie istnieje (bo w otoczce mamy tylko p0)\n",
    "        # obliczam kąt między każdym punktem a osią OX\n",
    "        if prev is None:\n",
    "            for i in range(len(A)):\n",
    "                A[i] = [ox_angle(p1, S[i]), dist(S[i], current), i]\n",
    "        # w.p.p obliczam kąt między wektorami -a-S[i]-> i -a-b-> gdzie a i b to \n",
    "        # odpowiednio ostatni i przedostatni punkt dodany do otoczki\n",
    "        else:\n",
    "            for i in range(len(A)):\n",
    "                A[i] = [angle_cw(prev, current, S[i]), dist(current, S[i]), i]\n",
    "        \n",
    "        prev = current\n",
    "        current = S[max(A, key = lambda x : (x[0], x[1]))[2]]\n",
    "        new_scene = deepcopy(scenes[len(scenes) - 1])\n",
    "\n",
    "\n",
    "        if p1 != current:\n",
    "            new_scene[0].append(current)\n",
    "        else:\n",
    "            back_in_p1 = True\n",
    "\n",
    "        new_scene[1].append([prev, current])\n",
    "        scenes.append(new_scene)\n",
    "    \n",
    "    return scenes"
   ]
  },
  {
   "cell_type": "markdown",
   "metadata": {},
   "source": [
    "## Generowanie wykresu dla algorytmu Jarvisu"
   ]
  },
  {
   "cell_type": "code",
   "execution_count": null,
   "metadata": {},
   "outputs": [],
   "source": [
    "def generate_plot_jarvis(P):\n",
    "    tmp = deepcopy(P)\n",
    "\n",
    "    scenes = jarvis_with_scenes(tmp)\n",
    "    \n",
    "    m = len(scenes)\n",
    "    last_points = scenes[m-1][0]\n",
    "    \n",
    "    \n",
    "    for i in range(m-1):\n",
    "        scenes[i] = Scene([PointsCollection(P),\n",
    "                           PointsCollection(scenes[i][0], color = 'red'),\n",
    "                           PointsCollection(scenes[i][0][:-1], color = 'blue'),], \n",
    "                          [LinesCollection(scenes[i][1], color = 'red')])\n",
    "        \n",
    "    scenes[m-1] = Scene([PointsCollection(P, color = 'blue'), PointsCollection(last_points, color = 'red')],\n",
    "                      [LinesCollection(scenes[m-1][1], color = 'red')])\n",
    "    \n",
    "    return Plot(scenes)"
   ]
  },
  {
   "cell_type": "markdown",
   "metadata": {},
   "source": [
    "## Otoczka wypukła zbioru A (Algorytm Jarvisa)"
   ]
  },
  {
   "cell_type": "code",
   "execution_count": null,
   "metadata": {},
   "outputs": [],
   "source": [
    "plot = generate_plot_jarvis(copy(A))\n",
    "plot.draw()"
   ]
  },
  {
   "cell_type": "markdown",
   "metadata": {},
   "source": [
    "## Otoczka wypukła zbioru B (Algorytm Jarvisa)"
   ]
  },
  {
   "cell_type": "code",
   "execution_count": null,
   "metadata": {},
   "outputs": [],
   "source": [
    "plot = generate_plot_jarvis(copy(B))\n",
    "plot.draw()"
   ]
  },
  {
   "cell_type": "markdown",
   "metadata": {},
   "source": [
    "## Otoczka wypukła zbioru C (Algorytm Jarvisa)"
   ]
  },
  {
   "cell_type": "code",
   "execution_count": null,
   "metadata": {},
   "outputs": [],
   "source": [
    "plot = generate_plot_jarvis(copy(C))\n",
    "plot.draw()"
   ]
  },
  {
   "cell_type": "markdown",
   "metadata": {},
   "source": [
    "## Otoczka wypukła zbioru D (Algorytm Jarvisa)"
   ]
  },
  {
   "cell_type": "code",
   "execution_count": null,
   "metadata": {},
   "outputs": [],
   "source": [
    "plot = generate_plot_jarvis(copy(D))\n",
    "plot.draw()"
   ]
  },
  {
   "cell_type": "markdown",
   "metadata": {},
   "source": [
    "## Implementacja algorytmu Grahama zwracającego kolejne etapy wyznaczania otoczki"
   ]
  },
  {
   "cell_type": "code",
   "execution_count": null,
   "metadata": {},
   "outputs": [],
   "source": [
    "# scenes[i] - i-ty etap wyznaczania otoczki\n",
    "# dropped[i] - punkty odrzucone z potencjalnej otoczki do kroku i (włącznie)\n",
    "\n",
    "def graham_with_scenes(S):\n",
    "    # usuwam ze zbioru punkt o najmniejszym y (jesli jest ich kilka to ten wsrod nich o najmniejszym x)\n",
    "    # ten punkt na pewno znajdzie sie w otoczce \n",
    "    p0 = min(S, key = lambda x : (x[1], x[0]))\n",
    "    S.remove(p0)\n",
    "    \n",
    "    # kazde pole w liscie A bedzie zawierac informacje\n",
    "    # [a, b, c]\n",
    "    # a - indeks punktu z tablicy S, do ktorego to pole w tablicy A sie odnosi\n",
    "    # b - ogleglosc w metryce euklidesowej miedzy punktem p0 a S[a]\n",
    "    # c - kat miedzy wektorem rownoleglym z osia OX i wektorem -p0-S[a]->\n",
    "    A = []\n",
    "\n",
    "    for i in range(len(S)):\n",
    "        A.append([i, dist(p0, S[i]), ox_angle(p0, S[i])])\n",
    "    \n",
    "    # sortuje tablice A najpierw po wartosciach b malejąco\n",
    "    # nastepnie po wartosciach c rosnaco\n",
    "    A = sorted(A, key = lambda v : v[2])\n",
    "    \n",
    "    # lista dropped zawiera punkty wyznaczone jako nienależące do otoczki w każdym z kroków\n",
    "    dropped = [[]]\n",
    "    \n",
    "    # eliminuje wszystkie punkty o tej samej wartosci c za wyjatkiem\n",
    "    # najbardziej oddalonego od p0 i dodaje do dropped[0]\n",
    "    i = 0\n",
    "    while i < len(A)-1:\n",
    "        if abs(A[i][2] - A[i+1][2]) < EPS:\n",
    "            if A[i][1] < A[i+1][1]:\n",
    "                dropped[0].append(S[A.pop(i)[0]])\n",
    "            else:\n",
    "                dropped[0].append(S[A.pop(i+1)[0]])\n",
    "        else:\n",
    "            i += 1\n",
    "\n",
    "    p1 = S[A[0][0]]\n",
    "    p2 = S[A[1][0]]\n",
    "    scenes = [[[p0, p1], [p1, p2]]]\n",
    "    \n",
    "    for i in range(2, len(A)):\n",
    "        dropped.append(copy(dropped[-1]))\n",
    "        new_point = S[A[i][0]]\n",
    "        new_scene = deepcopy(scenes[len(scenes)-1])\n",
    "\n",
    "        a, b = new_scene[len(new_scene)-1]\n",
    "        while len(new_scene) > 1 and orient(a, b, new_point) < EPS:\n",
    "            dropped[i-1].append(new_scene.pop()[1])\n",
    "            a, b = new_scene[len(new_scene)-1]\n",
    "\n",
    "        new_scene.append([b, new_point])\n",
    "        scenes.append(new_scene)\n",
    "    \n",
    "    last_scene = deepcopy(scenes[len(scenes)-1])\n",
    "    last_scene.append([new_point, p0])\n",
    "    scenes.append(last_scene)\n",
    "\n",
    "    return scenes, dropped"
   ]
  },
  {
   "cell_type": "markdown",
   "metadata": {},
   "source": [
    "## Generowanie wykresu dla algorytmu Grahama"
   ]
  },
  {
   "cell_type": "code",
   "execution_count": null,
   "metadata": {},
   "outputs": [],
   "source": [
    "def generate_plot_graham(P):\n",
    "    \n",
    "    scenes, dropped = graham_with_scenes(copy(P))\n",
    "    \n",
    "    m = len(scenes)\n",
    "    last = scenes[m-1]\n",
    "    \n",
    "    for i in range(m-1):\n",
    "        scenes[i] = Scene([PointsCollection(P, color = 'blue'), \n",
    "                           PointsCollection(dropped[i], color = 'cyan'),\n",
    "                          PointsCollection(scenes[i][-1], color = 'red')],\n",
    "                          [LinesCollection(scenes[i][:-2], color = 'green'),\n",
    "                          LinesCollection(scenes[i][-2:], color = 'red')])\n",
    "    \n",
    "    points = []\n",
    "    for edge in last:\n",
    "        points.append(edge[0])\n",
    "    \n",
    "    scenes[m-1] = Scene([PointsCollection(P, color = 'blue'), \n",
    "                         PointsCollection(points, color = 'red')], \n",
    "                        [LinesCollection(last, color = 'red')])\n",
    "    \n",
    "    \n",
    "    return Plot(scenes)"
   ]
  },
  {
   "cell_type": "markdown",
   "metadata": {},
   "source": [
    "## Otoczka wypukła zbioru A (Algorytm Grahama)"
   ]
  },
  {
   "cell_type": "code",
   "execution_count": null,
   "metadata": {},
   "outputs": [],
   "source": [
    "plot = generate_plot_graham(copy(A))\n",
    "plot.draw()"
   ]
  },
  {
   "cell_type": "markdown",
   "metadata": {},
   "source": [
    "## Otoczka wypukła zbioru B (Algorytm Grahama)"
   ]
  },
  {
   "cell_type": "code",
   "execution_count": null,
   "metadata": {},
   "outputs": [],
   "source": [
    "plot = generate_plot_graham(copy(B))\n",
    "plot.draw()"
   ]
  },
  {
   "cell_type": "markdown",
   "metadata": {},
   "source": [
    "## Otoczka wypukła zbioru C (Algorytm Grahama)"
   ]
  },
  {
   "cell_type": "code",
   "execution_count": null,
   "metadata": {},
   "outputs": [],
   "source": [
    "plot = generate_plot_graham(copy(C))\n",
    "plot.draw()"
   ]
  },
  {
   "cell_type": "markdown",
   "metadata": {},
   "source": [
    "## Otoczka wypukła zbioru D (Algorytm Grahama)"
   ]
  },
  {
   "cell_type": "code",
   "execution_count": null,
   "metadata": {},
   "outputs": [],
   "source": [
    "plot = generate_plot_graham(copy(D))\n",
    "plot.draw()"
   ]
  },
  {
   "cell_type": "markdown",
   "metadata": {},
   "source": [
    "# Implementacje algorytmów Grahama oraz Jarvisa (brak zwracania ścieżki)"
   ]
  },
  {
   "cell_type": "code",
   "execution_count": null,
   "metadata": {},
   "outputs": [],
   "source": [
    "def graham(S):\n",
    "    p0 = min(S, key = lambda x : (x[1], x[0]))\n",
    "    S.remove(p0)\n",
    "\n",
    "    A = [None]*len(S)\n",
    "\n",
    "    for i in range(len(A)):\n",
    "        angle = ox_angle(p0, S[i])\n",
    "        A[i] = [i, dist(p0, S[i]), angle]\n",
    "    \n",
    "    A = sorted(A, key = lambda v : v[1], reverse = True)\n",
    "    A = sorted(A, key = lambda v : v[2])\n",
    "\n",
    "    while i < len(A)-1:\n",
    "        if abs(A[i][2] - A[i+1][2]) < EPS:\n",
    "            if A[i][1] < A[i+1][1]:\n",
    "                A.pop(i)\n",
    "            else:\n",
    "                A.pop(i+1)\n",
    "    \n",
    "    stack = Queue()\n",
    "\n",
    "    stack.put(p0)\n",
    "    stack.put(S[A[0][0]])\n",
    "    stack.put(S[A[1][0]])\n",
    "\n",
    "    for i in range(2, len(A)):\n",
    "        b = stack.get()\n",
    "        a = stack.get()\n",
    "        c = S[A[i][0]]\n",
    "\n",
    "        while stack.qsize() > 1 and orient(a, b, c) < EPS:\n",
    "            a, b = stack.get(), a\n",
    "        \n",
    "        stack.put(a)\n",
    "        stack.put(b)\n",
    "        stack.put(c)\n",
    "    \n",
    "    return stack"
   ]
  },
  {
   "cell_type": "code",
   "execution_count": null,
   "metadata": {},
   "outputs": [],
   "source": [
    "def jarvis(S):\n",
    "    p1 = min(S, key = lambda x : (x[1], x[0]))\n",
    "    convex_hull = [p1]\n",
    "    \n",
    "    current = p1\n",
    "    prev = None\n",
    "    back_in_p1 = False\n",
    "    A = [None]*len(S)\n",
    "\n",
    "    while not back_in_p1:\n",
    "        if prev is None:\n",
    "            for i in range(len(A)):\n",
    "                A[i] = [ox_angle(p1, S[i]), dist(p1, S[i]), i]\n",
    "        else:\n",
    "            for i in range(len(A)):\n",
    "                A[i] = [angle_cw(prev, current, S[i]), dist(current, S[i]), i]\n",
    "        \n",
    "        prev = current\n",
    "        current = S[max(A, key = lambda x : (x[0], x[1]))[2]]\n",
    "\n",
    "        if p1 == current:\n",
    "            back_in_p1 = True\n",
    "        else:\n",
    "            convex_hull.append(current)\n",
    "    \n",
    "    return convex_hull"
   ]
  },
  {
   "cell_type": "markdown",
   "metadata": {},
   "source": [
    "# Porównanie czasu wyznaczania otoczki dla różnych zbiorów"
   ]
  },
  {
   "cell_type": "code",
   "execution_count": null,
   "metadata": {},
   "outputs": [],
   "source": [
    "def compare_time(s, set_name):\n",
    "    print(\"Porównanie czasu wyznaczenia otoczki dla zbioru: \" + set_name)\n",
    "    \n",
    "    s1 = copy(s)\n",
    "    s2 = copy(s)\n",
    "    \n",
    "    start_g = timer()\n",
    "    graham(s1)\n",
    "    end_g = timer()\n",
    "    \n",
    "    graham_time = end_g - start_g\n",
    "    print(\"Algorytm Grahama: {:.6f} s\".format(graham_time))\n",
    "    \n",
    "    start_j = timer()\n",
    "    jarvis(s2)\n",
    "    end_j = timer()\n",
    "    \n",
    "    jarvis_time = end_j - start_j\n",
    "    \n",
    "    print(\"Algorytm Jarvisa: {:.6f} s\".format(jarvis_time))\n",
    "    print('---------------------------------------------------')"
   ]
  },
  {
   "cell_type": "code",
   "execution_count": null,
   "metadata": {},
   "outputs": [],
   "source": [
    "compare_time(A, \"A\")"
   ]
  },
  {
   "cell_type": "code",
   "execution_count": null,
   "metadata": {},
   "outputs": [],
   "source": [
    "compare_time(B, \"B\")"
   ]
  },
  {
   "cell_type": "code",
   "execution_count": null,
   "metadata": {},
   "outputs": [],
   "source": [
    "compare_time(C, \"C\")"
   ]
  },
  {
   "cell_type": "code",
   "execution_count": null,
   "metadata": {},
   "outputs": [],
   "source": [
    "compare_time(D, \"D\")"
   ]
  },
  {
   "cell_type": "code",
   "execution_count": null,
   "metadata": {},
   "outputs": [],
   "source": []
  }
 ],
 "metadata": {
  "kernelspec": {
   "display_name": "Python 3 (ipykernel)",
   "language": "python",
   "name": "python3"
  },
  "language_info": {
   "codemirror_mode": {
    "name": "ipython",
    "version": 3
   },
   "file_extension": ".py",
   "mimetype": "text/x-python",
   "name": "python",
   "nbconvert_exporter": "python",
   "pygments_lexer": "ipython3",
   "version": "3.8.8"
  }
 },
 "nbformat": 4,
 "nbformat_minor": 1
}
