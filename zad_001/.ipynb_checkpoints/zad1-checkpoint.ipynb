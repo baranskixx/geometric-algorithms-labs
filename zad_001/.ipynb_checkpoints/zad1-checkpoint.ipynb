{
 "cells": [
  {
   "cell_type": "markdown",
   "id": "e9ff6ccd",
   "metadata": {},
   "source": [
    "# Zadanie 1"
   ]
  },
  {
   "cell_type": "markdown",
   "id": "97f3712f",
   "metadata": {},
   "source": [
    "# Przygotowania:\n"
   ]
  },
  {
   "cell_type": "markdown",
   "id": "fd8002ee",
   "metadata": {},
   "source": [
    "## Na początku należy zaimportować potrzebne biblioteki"
   ]
  },
  {
   "cell_type": "code",
   "execution_count": 15,
   "id": "4135ba7d",
   "metadata": {},
   "outputs": [],
   "source": [
    "import numpy as np                 # import biblioteki numpy\n",
    "import matplotlib.colors as colors # import kolorów z matplotlib\n",
    "import matplotlib.pyplot as plt    # import \n",
    "from random import uniform         # import metody uniform"
   ]
  },
  {
   "cell_type": "markdown",
   "id": "98ee6eb7",
   "metadata": {},
   "source": [
    "##  Współrzędne wektora wyznaczone przez punkty A i B"
   ]
  },
  {
   "cell_type": "code",
   "execution_count": 16,
   "id": "40862819",
   "metadata": {},
   "outputs": [],
   "source": [
    "A = [-1.0, 0]\n",
    "B = [1.0, 0.1]"
   ]
  },
  {
   "cell_type": "markdown",
   "id": "77b6a476",
   "metadata": {},
   "source": [
    "## Własne implementacje obliczania wyznaczników"
   ]
  },
  {
   "cell_type": "code",
   "execution_count": 17,
   "id": "49cbc268",
   "metadata": {},
   "outputs": [],
   "source": [
    "# det_2_x_2 przyjmuje jako argument macierz o wymiarach 2x2\n",
    "def det_2_x_2(M):\n",
    "    return M[0][0]*M[1][1] - M[1][0]*M[0][1]\n",
    "    \n",
    "# analogicznie det_3_x_3 przyjmuje jako argument macierz o wymiarach 3x3\n",
    "def det_3_x_3():\n",
    "    return (M[0][0]*M[1][1]*M[2][2] +\n",
    "            M[1][0]*M[2][1]*M[0][2] +\n",
    "            M[2][0]*M[0][1]*M[1][2] -\n",
    "            M[0][2]*M[1][1]*M[2][0] -\n",
    "            M[0][1]*M[1][0]*M[2][0] -\n",
    "            M[0][0]*M[1][2]*M[2][1])    "
   ]
  },
  {
   "cell_type": "markdown",
   "id": "7a86ddce",
   "metadata": {},
   "source": [
    "## Generowanie punktów zbioru A)"
   ]
  },
  {
   "cell_type": "code",
   "execution_count": 18,
   "id": "355eb4ea",
   "metadata": {},
   "outputs": [],
   "source": [
    "pointsA = []\n",
    "N = int(1e5)\n",
    "\n",
    "for _ in range(N):\n",
    "    x = uniform(-1e3, 1e3)\n",
    "    y = uniform(-1e3, 1e3)\n",
    "    points.append((x, y))"
   ]
  },
  {
   "cell_type": "markdown",
   "id": "3c5fdb41",
   "metadata": {},
   "source": [
    "## Generowanie punktów zbioru B)"
   ]
  },
  {
   "cell_type": "code",
   "execution_count": 19,
   "id": "a6a479eb",
   "metadata": {},
   "outputs": [],
   "source": [
    "pointsB = []\n",
    "N = int(1e5)\n",
    "\n",
    "for _ in range(N):\n",
    "    x = uniform(-1e14, 1e14)\n",
    "    y = uniform(-1e14, 1e14)\n",
    "    pointsB.append((x, y))"
   ]
  },
  {
   "cell_type": "markdown",
   "id": "3d9b71de",
   "metadata": {},
   "source": [
    "## Generowanie punktów zbioru C)"
   ]
  },
  {
   "cell_type": "code",
   "execution_count": 26,
   "id": "e1a773d1",
   "metadata": {},
   "outputs": [],
   "source": [
    "pointsC = []\n",
    "N = int(1e3)\n",
    "RADIUS = 100\n",
    "\n",
    "for _ in range(N):\n",
    "    s = uniform(0, 2*np.pi)\n",
    "    \n",
    "    x = np.cos(s)*RADIUS\n",
    "    y = np.sin(s)*RADIUS\n",
    "    pointsC.append((x, y))"
   ]
  },
  {
   "cell_type": "markdown",
   "id": "24115c2a",
   "metadata": {},
   "source": [
    "## Generowanie punktów zbioru D"
   ]
  },
  {
   "cell_type": "code",
   "execution_count": null,
   "id": "9f87516c",
   "metadata": {},
   "outputs": [],
   "source": [
    "pointsD = []\n",
    "N = int(1e3)\n",
    "\n",
    "# postać prostej a*x + b\n",
    "# a - nachylenie krzywej,\n",
    "# b - stała\n",
    "\n",
    "a = (A[1] - B[1]) / (A[0] - B[0])\n",
    "b = A[1] - A[0] * a\n",
    "for _ in range(N):\n",
    "    x = uniform(-1e3, 1e3)\n",
    "    y = a * x + b\n",
    "    pointsD.append((x, y))"
   ]
  }
 ],
 "metadata": {
  "kernelspec": {
   "display_name": "Python 3 (ipykernel)",
   "language": "python",
   "name": "python3"
  },
  "language_info": {
   "codemirror_mode": {
    "name": "ipython",
    "version": 3
   },
   "file_extension": ".py",
   "mimetype": "text/x-python",
   "name": "python",
   "nbconvert_exporter": "python",
   "pygments_lexer": "ipython3",
   "version": "3.8.8"
  }
 },
 "nbformat": 4,
 "nbformat_minor": 5
}
