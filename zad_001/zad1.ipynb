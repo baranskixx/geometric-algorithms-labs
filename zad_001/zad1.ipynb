{
 "cells": [
  {
   "cell_type": "markdown",
   "id": "e9ff6ccd",
   "metadata": {},
   "source": [
    "# Zadanie 1"
   ]
  },
  {
   "cell_type": "markdown",
   "id": "97f3712f",
   "metadata": {},
   "source": [
    "# Przygotowania:\n"
   ]
  },
  {
   "cell_type": "markdown",
   "id": "fd8002ee",
   "metadata": {},
   "source": [
    "## Na początku należy zaimportować potrzebne biblioteki"
   ]
  },
  {
   "cell_type": "code",
   "execution_count": 101,
   "id": "4135ba7d",
   "metadata": {},
   "outputs": [],
   "source": [
    "import numpy as np                 # import biblioteki numpy\n",
    "import matplotlib.colors as colors # import kolorów z matplotlib\n",
    "import matplotlib.pyplot as plt    # import \n",
    "from random import uniform         # import metody uniform"
   ]
  },
  {
   "cell_type": "markdown",
   "id": "98ee6eb7",
   "metadata": {},
   "source": [
    "##  Współrzędne wektora wyznaczone przez punkty A i B"
   ]
  },
  {
   "cell_type": "code",
   "execution_count": 102,
   "id": "40862819",
   "metadata": {},
   "outputs": [],
   "source": [
    "A = [-1.0, 0]\n",
    "B = [1.0, 0.1]"
   ]
  },
  {
   "cell_type": "markdown",
   "id": "19689944",
   "metadata": {},
   "source": [
    "## Deklaracja wartości tolerancji"
   ]
  },
  {
   "cell_type": "code",
   "execution_count": 103,
   "id": "157ddf66",
   "metadata": {},
   "outputs": [],
   "source": [
    "tolerances = [1e-15, 1e-10, 1e-5]"
   ]
  },
  {
   "cell_type": "markdown",
   "id": "77b6a476",
   "metadata": {},
   "source": [
    "## Własne implementacje obliczania wyznaczników macierzy 2x2 oraz 3x3"
   ]
  },
  {
   "cell_type": "code",
   "execution_count": 104,
   "id": "49cbc268",
   "metadata": {},
   "outputs": [],
   "source": [
    "# det_2_x_2 przyjmuje jako argument macierz o wymiarach 2x2\n",
    "def det_2_x_2(M):\n",
    "    return M[0][0]*M[1][1] - M[1][0]*M[0][1]\n",
    "    \n",
    "# analogicznie det_3_x_3 przyjmuje jako argument macierz o wymiarach 3x3\n",
    "def det_3_x_3(M):\n",
    "    return (M[0][0]*M[1][1]*M[2][2] +\n",
    "            M[1][0]*M[2][1]*M[0][2] +\n",
    "            M[2][0]*M[0][1]*M[1][2] -\n",
    "            M[0][2]*M[1][1]*M[2][0] -\n",
    "            M[0][1]*M[1][0]*M[2][0] -\n",
    "            M[0][0]*M[1][2]*M[2][1])    "
   ]
  },
  {
   "cell_type": "markdown",
   "id": "bdf4d669",
   "metadata": {},
   "source": [
    "## Funkcja dostosowująca skalę wykresu do żądanych zakresów"
   ]
  },
  {
   "cell_type": "code",
   "execution_count": 105,
   "id": "322ab943",
   "metadata": {},
   "outputs": [],
   "source": [
    "def adjust_plot(limit):\n",
    "    fig = plt.figure(figsize = (8, 8))\n",
    "    plt.xlim(-limit*1.1, limit*1.1)\n",
    "    plt.ylim(-limit*(1.1), limit*(1.1))\n",
    "    \n",
    "def adjust_plot_2dim(limit_x, limit_y):\n",
    "    fig = plt.figure(figsize = (8, 8))\n",
    "    plt.xlim(-limit_x*1.1, limit_x*1.1)\n",
    "    plt.ylim(-limit_y*(1.1), limit_y*(1.1))"
   ]
  },
  {
   "cell_type": "markdown",
   "id": "7a86ddce",
   "metadata": {},
   "source": [
    "## Generowanie punktów zbioru A)"
   ]
  },
  {
   "cell_type": "code",
   "execution_count": 106,
   "id": "355eb4ea",
   "metadata": {},
   "outputs": [
    {
     "data": {
      "text/plain": [
       "<matplotlib.collections.PathCollection at 0x7f24a7185940>"
      ]
     },
     "execution_count": 106,
     "metadata": {},
     "output_type": "execute_result"
    },
    {
     "data": {
      "image/png": "[encoded data removed]",
      "text/plain": [
       "<Figure size 576x576 with 1 Axes>"
      ]
     },
     "metadata": {
      "needs_background": "light"
     },
     "output_type": "display_data"
    }
   ],
   "source": [
    "pointsA_x = []\n",
    "pointsA_y = []\n",
    "N = int(1e5)\n",
    "LIMIT = int(1e3)\n",
    "\n",
    "for _ in range(N):\n",
    "    x = uniform(-1e3, 1e3)\n",
    "    y = uniform(-1e3, 1e3)\n",
    "    pointsA_x.append(x)\n",
    "    pointsA_y.append(y)\n",
    "\n",
    "adjust_plot(LIMIT)\n",
    "plt.scatter(pointsA_x, pointsA_y)"
   ]
  },
  {
   "cell_type": "markdown",
   "id": "3c5fdb41",
   "metadata": {},
   "source": [
    "## Generowanie punktów zbioru B)"
   ]
  },
  {
   "cell_type": "code",
   "execution_count": 107,
   "id": "a6a479eb",
   "metadata": {},
   "outputs": [
    {
     "data": {
      "text/plain": [
       "<matplotlib.collections.PathCollection at 0x7f24a7487eb0>"
      ]
     },
     "execution_count": 107,
     "metadata": {},
     "output_type": "execute_result"
    },
    {
     "data": {
      "image/png": "[encoded data removed]",
      "text/plain": [
       "<Figure size 576x576 with 1 Axes>"
      ]
     },
     "metadata": {
      "needs_background": "light"
     },
     "output_type": "display_data"
    }
   ],
   "source": [
    "pointsB_x = []\n",
    "pointsB_y = []\n",
    "N = int(1e5)\n",
    "LIMIT = int(1e14)\n",
    "\n",
    "for _ in range(N):\n",
    "    x = uniform(-1e14, 1e14)\n",
    "    y = uniform(-1e14, 1e14)\n",
    "    pointsB_x.append(x)\n",
    "    pointsB_y.append(y)\n",
    "adjust_plot(LIMIT)\n",
    "plt.scatter(pointsB_x, pointsB_y)"
   ]
  },
  {
   "cell_type": "markdown",
   "id": "3d9b71de",
   "metadata": {},
   "source": [
    "## Generowanie punktów zbioru C)"
   ]
  },
  {
   "cell_type": "code",
   "execution_count": 108,
   "id": "e1a773d1",
   "metadata": {},
   "outputs": [
    {
     "data": {
      "text/plain": [
       "<matplotlib.collections.PathCollection at 0x7f24a6a25dc0>"
      ]
     },
     "execution_count": 108,
     "metadata": {},
     "output_type": "execute_result"
    },
    {
     "data": {
      "text/plain": [
       "<Figure size 576x576 with 0 Axes>"
      ]
     },
     "metadata": {},
     "output_type": "display_data"
    },
    {
     "data": {
      "image/png": "[encoded data removed]",
      "text/plain": [
       "<Figure size 576x576 with 1 Axes>"
      ]
     },
     "metadata": {
      "needs_background": "light"
     },
     "output_type": "display_data"
    }
   ],
   "source": [
    "pointsC_x = []\n",
    "pointsC_y = []\n",
    "N = int(1e3)\n",
    "RADIUS = 100\n",
    "\n",
    "\n",
    "for _ in range(N):\n",
    "    s = uniform(0, 2*np.pi)\n",
    "    \n",
    "    x = np.cos(s)*RADIUS\n",
    "    y = np.sin(s)*RADIUS\n",
    "    pointsC_x.append(x)\n",
    "    pointsC_y.append(y)\n",
    "fig = plt.figure(figsize = (8, 8))\n",
    "adjust_plot(RADIUS)\n",
    "plt.scatter(pointsC_x, pointsC_y)"
   ]
  },
  {
   "cell_type": "markdown",
   "id": "24115c2a",
   "metadata": {},
   "source": [
    "## Generowanie punktów zbioru D"
   ]
  },
  {
   "cell_type": "code",
   "execution_count": 112,
   "id": "9f87516c",
   "metadata": {},
   "outputs": [
    {
     "data": {
      "image/png": "[encoded data removed]",
      "text/plain": [
       "<Figure size 576x576 with 1 Axes>"
      ]
     },
     "metadata": {
      "needs_background": "light"
     },
     "output_type": "display_data"
    }
   ],
   "source": [
    "pointsD_x = []\n",
    "pointsD_y = []\n",
    "N = int(1e3)\n",
    "LIMIT_X = int(1e3)\n",
    "LIMIT_Y = 200\n",
    "\n",
    "# postać prostej a*x + b\n",
    "# a - nachylenie krzywej,\n",
    "# b - stała\n",
    "\n",
    "a = (A[1] - B[1]) / (A[0] - B[0])\n",
    "b = A[1] - A[0] * a\n",
    "for _ in range(N):\n",
    "    x = uniform(-1e3, 1e3)\n",
    "    y = a * x + b\n",
    "    pointsD_x.append(x)\n",
    "    pointsD_y.append(y)\n",
    "\n",
    "adjust_plot_2dim(LIMIT_X, LIMIT_Y)\n",
    "plt.scatter(pointsD_x, pointsD_y)\n",
    "plt.show()"
   ]
  },
  {
   "cell_type": "markdown",
   "id": "eeb9c7a5",
   "metadata": {
    "slideshow": {
     "slide_type": "notes"
    }
   },
   "source": [
    "   # Podział punktów"
   ]
  },
  {
   "cell_type": "markdown",
   "id": "6eccd611",
   "metadata": {},
   "source": [
    "Funkcja group_points(X, Y) grupuje punkty na:\n",
    "\n",
    "* leżące pod prostą wyznaczoną przez A i B\n",
    "* współliniowe z tą prostą\n",
    "* leżącego nad prostą.\n",
    "\n",
    "Taki podział wykonuje dla każdej z 4 metod liczenia wyznaczników (zaimplementowanych wyżej oraz tych pochodzących z biblioteki numpy)."
   ]
  },
  {
   "cell_type": "code",
   "execution_count": 110,
   "id": "ec16e97e",
   "metadata": {},
   "outputs": [],
   "source": [
    "def group_points(X, Y):\n",
    "    results_x = [[[[], [], []] for t in range(3)] for det in range(4)]\n",
    "    results_y = [[[[], [], []] for t in range(3)] for det in range(4)]\n",
    "    \n",
    "    N = len(X)\n",
    "    \n",
    "    for p in range(N):\n",
    "        x = X[p]\n",
    "        y = Y[p]\n",
    "        \n",
    "        matrix3d = np.array([[A[0], A[1], 1],\n",
    "                            [B[0], B[1], 1],\n",
    "                            [x, y, 1]])\n",
    "        \n",
    "        matrix2d = np.array([[A[0] - x, A[1] - y],\n",
    "                             [B[0] - x, B[1] - y]])\n",
    "        \n",
    "        determinants = [np.linalg.det(matrix2d), det_2_x_2(matrix2d),\n",
    "                        np.linalg.det(matrix3d), det_3_x_3(matrix3d)]\n",
    "        \n",
    "        for i in range(len(determinants)):\n",
    "            for j in range(len(tolerances)):\n",
    "                if abs(determinants[i]) < tolerances[j]:\n",
    "                    results_x[i][j][0].append(x)\n",
    "                    results_y[i][j][0].append(y)\n",
    "                elif determinants[i] > 0:\n",
    "                    results_x[i][j][1].append(x)\n",
    "                    results_y[i][j][1].append(y)\n",
    "                else:\n",
    "                    results_x[i][j][2].append(x)\n",
    "                    results_y[i][j][2].append(y)\n",
    "                    \n",
    "    return results_x, results_y"
   ]
  },
  {
   "cell_type": "code",
   "execution_count": 111,
   "id": "a03219f4",
   "metadata": {},
   "outputs": [],
   "source": [
    "result1 = group_points(pointsA_x, pointsA_y)\n",
    "result2 = group_points(pointsB_x, pointsB_y)\n",
    "result3 = group_points(pointsC_x, pointsC_y)\n",
    "result4 = group_points(pointsD_x, pointsD_y)"
   ]
  },
  {
   "cell_type": "markdown",
   "id": "69784209",
   "metadata": {},
   "source": [
    "## Porównania wyznaczników"
   ]
  }
 ],
 "metadata": {
  "kernelspec": {
   "display_name": "Python 3 (ipykernel)",
   "language": "python",
   "name": "python3"
  },
  "language_info": {
   "codemirror_mode": {
    "name": "ipython",
    "version": 3
   },
   "file_extension": ".py",
   "mimetype": "text/x-python",
   "name": "python",
   "nbconvert_exporter": "python",
   "pygments_lexer": "ipython3",
   "version": "3.8.8"
  }
 },
 "nbformat": 4,
 "nbformat_minor": 5
}
